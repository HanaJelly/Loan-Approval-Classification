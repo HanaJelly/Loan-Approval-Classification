{
 "cells": [
  {
   "cell_type": "markdown",
   "id": "14fd06a0-232f-45ed-812b-834789d57838",
   "metadata": {},
   "source": [
    "# Install and import libraries"
   ]
  },
  {
   "cell_type": "code",
   "execution_count": 8,
   "id": "e2313811-84d6-4e80-81e5-dd4f0d258cde",
   "metadata": {},
   "outputs": [
    {
     "name": "stdout",
     "output_type": "stream",
     "text": [
      "Defaulting to user installation because normal site-packages is not writeable\n",
      "Requirement already satisfied: imbalanced-learn in c:\\programdata\\anaconda3\\lib\\site-packages (0.12.3)\n",
      "Requirement already satisfied: numpy>=1.17.3 in c:\\programdata\\anaconda3\\lib\\site-packages (from imbalanced-learn) (1.26.4)\n",
      "Requirement already satisfied: scipy>=1.5.0 in c:\\programdata\\anaconda3\\lib\\site-packages (from imbalanced-learn) (1.13.1)\n",
      "Requirement already satisfied: scikit-learn>=1.0.2 in c:\\programdata\\anaconda3\\lib\\site-packages (from imbalanced-learn) (1.5.1)\n",
      "Requirement already satisfied: joblib>=1.1.1 in c:\\programdata\\anaconda3\\lib\\site-packages (from imbalanced-learn) (1.4.2)\n",
      "Requirement already satisfied: threadpoolctl>=2.0.0 in c:\\programdata\\anaconda3\\lib\\site-packages (from imbalanced-learn) (3.5.0)\n"
     ]
    }
   ],
   "source": [
    "!pip install imbalanced-learn"
   ]
  },
  {
   "cell_type": "code",
   "execution_count": 9,
   "id": "7f4eefc1-3ff3-4360-9e6d-a2c67f1da010",
   "metadata": {},
   "outputs": [],
   "source": [
    "import pandas as pd\n",
    "import numpy as np\n",
    "import matplotlib.pyplot as plt\n",
    "import seaborn as sns"
   ]
  },
  {
   "cell_type": "code",
   "execution_count": 10,
   "id": "35b31a61-9ae6-4ee0-857b-ddb5c1850584",
   "metadata": {},
   "outputs": [],
   "source": [
    "from sklearn.model_selection import train_test_split\n",
    "from sklearn.preprocessing import StandardScaler, LabelEncoder\n",
    "from sklearn.linear_model import LogisticRegression\n",
    "from sklearn.ensemble import RandomForestClassifier\n",
    "from sklearn.metrics import classification_report,confusion_matrix, roc_auc_score, roc_curve\n",
    "from imblearn.over_sampling import SMOTE"
   ]
  },
  {
   "cell_type": "markdown",
   "id": "f3082095-8182-43dc-8c80-1f811f3ecff7",
   "metadata": {
    "jp-MarkdownHeadingCollapsed": true
   },
   "source": [
    "# Load and Inspection of data"
   ]
  },
  {
   "cell_type": "code",
   "execution_count": 11,
   "id": "da310f15-afcb-44ff-879d-23784513245d",
   "metadata": {},
   "outputs": [],
   "source": [
    "df = pd.read_csv(r\"C:\\Users\\ahana\\Downloads\\loan_data.csv\")"
   ]
  },
  {
   "cell_type": "code",
   "execution_count": 12,
   "id": "5e33c0d8-7914-431a-923e-a769d956cbec",
   "metadata": {},
   "outputs": [
    {
     "data": {
      "text/html": [
       "<div>\n",
       "<style scoped>\n",
       "    .dataframe tbody tr th:only-of-type {\n",
       "        vertical-align: middle;\n",
       "    }\n",
       "\n",
       "    .dataframe tbody tr th {\n",
       "        vertical-align: top;\n",
       "    }\n",
       "\n",
       "    .dataframe thead th {\n",
       "        text-align: right;\n",
       "    }\n",
       "</style>\n",
       "<table border=\"1\" class=\"dataframe\">\n",
       "  <thead>\n",
       "    <tr style=\"text-align: right;\">\n",
       "      <th></th>\n",
       "      <th>person_age</th>\n",
       "      <th>person_gender</th>\n",
       "      <th>person_education</th>\n",
       "      <th>person_income</th>\n",
       "      <th>person_emp_exp</th>\n",
       "      <th>person_home_ownership</th>\n",
       "      <th>loan_amnt</th>\n",
       "      <th>loan_intent</th>\n",
       "      <th>loan_int_rate</th>\n",
       "      <th>loan_percent_income</th>\n",
       "      <th>cb_person_cred_hist_length</th>\n",
       "      <th>credit_score</th>\n",
       "      <th>previous_loan_defaults_on_file</th>\n",
       "      <th>loan_status</th>\n",
       "    </tr>\n",
       "  </thead>\n",
       "  <tbody>\n",
       "    <tr>\n",
       "      <th>0</th>\n",
       "      <td>22.0</td>\n",
       "      <td>female</td>\n",
       "      <td>Master</td>\n",
       "      <td>71948.0</td>\n",
       "      <td>0</td>\n",
       "      <td>RENT</td>\n",
       "      <td>35000.0</td>\n",
       "      <td>PERSONAL</td>\n",
       "      <td>16.02</td>\n",
       "      <td>0.49</td>\n",
       "      <td>3.0</td>\n",
       "      <td>561</td>\n",
       "      <td>No</td>\n",
       "      <td>1</td>\n",
       "    </tr>\n",
       "    <tr>\n",
       "      <th>1</th>\n",
       "      <td>21.0</td>\n",
       "      <td>female</td>\n",
       "      <td>High School</td>\n",
       "      <td>12282.0</td>\n",
       "      <td>0</td>\n",
       "      <td>OWN</td>\n",
       "      <td>1000.0</td>\n",
       "      <td>EDUCATION</td>\n",
       "      <td>11.14</td>\n",
       "      <td>0.08</td>\n",
       "      <td>2.0</td>\n",
       "      <td>504</td>\n",
       "      <td>Yes</td>\n",
       "      <td>0</td>\n",
       "    </tr>\n",
       "    <tr>\n",
       "      <th>2</th>\n",
       "      <td>25.0</td>\n",
       "      <td>female</td>\n",
       "      <td>High School</td>\n",
       "      <td>12438.0</td>\n",
       "      <td>3</td>\n",
       "      <td>MORTGAGE</td>\n",
       "      <td>5500.0</td>\n",
       "      <td>MEDICAL</td>\n",
       "      <td>12.87</td>\n",
       "      <td>0.44</td>\n",
       "      <td>3.0</td>\n",
       "      <td>635</td>\n",
       "      <td>No</td>\n",
       "      <td>1</td>\n",
       "    </tr>\n",
       "    <tr>\n",
       "      <th>3</th>\n",
       "      <td>23.0</td>\n",
       "      <td>female</td>\n",
       "      <td>Bachelor</td>\n",
       "      <td>79753.0</td>\n",
       "      <td>0</td>\n",
       "      <td>RENT</td>\n",
       "      <td>35000.0</td>\n",
       "      <td>MEDICAL</td>\n",
       "      <td>15.23</td>\n",
       "      <td>0.44</td>\n",
       "      <td>2.0</td>\n",
       "      <td>675</td>\n",
       "      <td>No</td>\n",
       "      <td>1</td>\n",
       "    </tr>\n",
       "    <tr>\n",
       "      <th>4</th>\n",
       "      <td>24.0</td>\n",
       "      <td>male</td>\n",
       "      <td>Master</td>\n",
       "      <td>66135.0</td>\n",
       "      <td>1</td>\n",
       "      <td>RENT</td>\n",
       "      <td>35000.0</td>\n",
       "      <td>MEDICAL</td>\n",
       "      <td>14.27</td>\n",
       "      <td>0.53</td>\n",
       "      <td>4.0</td>\n",
       "      <td>586</td>\n",
       "      <td>No</td>\n",
       "      <td>1</td>\n",
       "    </tr>\n",
       "  </tbody>\n",
       "</table>\n",
       "</div>"
      ],
      "text/plain": [
       "   person_age person_gender person_education  person_income  person_emp_exp  \\\n",
       "0        22.0        female           Master        71948.0               0   \n",
       "1        21.0        female      High School        12282.0               0   \n",
       "2        25.0        female      High School        12438.0               3   \n",
       "3        23.0        female         Bachelor        79753.0               0   \n",
       "4        24.0          male           Master        66135.0               1   \n",
       "\n",
       "  person_home_ownership  loan_amnt loan_intent  loan_int_rate  \\\n",
       "0                  RENT    35000.0    PERSONAL          16.02   \n",
       "1                   OWN     1000.0   EDUCATION          11.14   \n",
       "2              MORTGAGE     5500.0     MEDICAL          12.87   \n",
       "3                  RENT    35000.0     MEDICAL          15.23   \n",
       "4                  RENT    35000.0     MEDICAL          14.27   \n",
       "\n",
       "   loan_percent_income  cb_person_cred_hist_length  credit_score  \\\n",
       "0                 0.49                         3.0           561   \n",
       "1                 0.08                         2.0           504   \n",
       "2                 0.44                         3.0           635   \n",
       "3                 0.44                         2.0           675   \n",
       "4                 0.53                         4.0           586   \n",
       "\n",
       "  previous_loan_defaults_on_file  loan_status  \n",
       "0                             No            1  \n",
       "1                            Yes            0  \n",
       "2                             No            1  \n",
       "3                             No            1  \n",
       "4                             No            1  "
      ]
     },
     "execution_count": 12,
     "metadata": {},
     "output_type": "execute_result"
    }
   ],
   "source": [
    "df.head()"
   ]
  },
  {
   "cell_type": "markdown",
   "id": "d14159d8-f99e-4099-aa56-b94735eb935f",
   "metadata": {
    "jp-MarkdownHeadingCollapsed": true
   },
   "source": [
    "# Data Inspection"
   ]
  },
  {
   "cell_type": "code",
   "execution_count": 13,
   "id": "90a0676e-0196-4449-96be-16c0e0bd2490",
   "metadata": {
    "scrolled": true
   },
   "outputs": [
    {
     "name": "stdout",
     "output_type": "stream",
     "text": [
      "<class 'pandas.core.frame.DataFrame'>\n",
      "RangeIndex: 45000 entries, 0 to 44999\n",
      "Data columns (total 14 columns):\n",
      " #   Column                          Non-Null Count  Dtype  \n",
      "---  ------                          --------------  -----  \n",
      " 0   person_age                      45000 non-null  float64\n",
      " 1   person_gender                   45000 non-null  object \n",
      " 2   person_education                45000 non-null  object \n",
      " 3   person_income                   45000 non-null  float64\n",
      " 4   person_emp_exp                  45000 non-null  int64  \n",
      " 5   person_home_ownership           45000 non-null  object \n",
      " 6   loan_amnt                       45000 non-null  float64\n",
      " 7   loan_intent                     45000 non-null  object \n",
      " 8   loan_int_rate                   45000 non-null  float64\n",
      " 9   loan_percent_income             45000 non-null  float64\n",
      " 10  cb_person_cred_hist_length      45000 non-null  float64\n",
      " 11  credit_score                    45000 non-null  int64  \n",
      " 12  previous_loan_defaults_on_file  45000 non-null  object \n",
      " 13  loan_status                     45000 non-null  int64  \n",
      "dtypes: float64(6), int64(3), object(5)\n",
      "memory usage: 4.8+ MB\n"
     ]
    }
   ],
   "source": [
    "df.info()"
   ]
  },
  {
   "cell_type": "code",
   "execution_count": 14,
   "id": "f38406a6-8bdd-42f9-b12c-0791e83458aa",
   "metadata": {
    "scrolled": true
   },
   "outputs": [
    {
     "data": {
      "text/html": [
       "<div>\n",
       "<style scoped>\n",
       "    .dataframe tbody tr th:only-of-type {\n",
       "        vertical-align: middle;\n",
       "    }\n",
       "\n",
       "    .dataframe tbody tr th {\n",
       "        vertical-align: top;\n",
       "    }\n",
       "\n",
       "    .dataframe thead th {\n",
       "        text-align: right;\n",
       "    }\n",
       "</style>\n",
       "<table border=\"1\" class=\"dataframe\">\n",
       "  <thead>\n",
       "    <tr style=\"text-align: right;\">\n",
       "      <th></th>\n",
       "      <th>person_age</th>\n",
       "      <th>person_income</th>\n",
       "      <th>person_emp_exp</th>\n",
       "      <th>loan_amnt</th>\n",
       "      <th>loan_int_rate</th>\n",
       "      <th>loan_percent_income</th>\n",
       "      <th>cb_person_cred_hist_length</th>\n",
       "      <th>credit_score</th>\n",
       "      <th>loan_status</th>\n",
       "    </tr>\n",
       "  </thead>\n",
       "  <tbody>\n",
       "    <tr>\n",
       "      <th>count</th>\n",
       "      <td>45000.000000</td>\n",
       "      <td>4.500000e+04</td>\n",
       "      <td>45000.000000</td>\n",
       "      <td>45000.000000</td>\n",
       "      <td>45000.000000</td>\n",
       "      <td>45000.000000</td>\n",
       "      <td>45000.000000</td>\n",
       "      <td>45000.000000</td>\n",
       "      <td>45000.000000</td>\n",
       "    </tr>\n",
       "    <tr>\n",
       "      <th>mean</th>\n",
       "      <td>27.764178</td>\n",
       "      <td>8.031905e+04</td>\n",
       "      <td>5.410333</td>\n",
       "      <td>9583.157556</td>\n",
       "      <td>11.006606</td>\n",
       "      <td>0.139725</td>\n",
       "      <td>5.867489</td>\n",
       "      <td>632.608756</td>\n",
       "      <td>0.222222</td>\n",
       "    </tr>\n",
       "    <tr>\n",
       "      <th>std</th>\n",
       "      <td>6.045108</td>\n",
       "      <td>8.042250e+04</td>\n",
       "      <td>6.063532</td>\n",
       "      <td>6314.886691</td>\n",
       "      <td>2.978808</td>\n",
       "      <td>0.087212</td>\n",
       "      <td>3.879702</td>\n",
       "      <td>50.435865</td>\n",
       "      <td>0.415744</td>\n",
       "    </tr>\n",
       "    <tr>\n",
       "      <th>min</th>\n",
       "      <td>20.000000</td>\n",
       "      <td>8.000000e+03</td>\n",
       "      <td>0.000000</td>\n",
       "      <td>500.000000</td>\n",
       "      <td>5.420000</td>\n",
       "      <td>0.000000</td>\n",
       "      <td>2.000000</td>\n",
       "      <td>390.000000</td>\n",
       "      <td>0.000000</td>\n",
       "    </tr>\n",
       "    <tr>\n",
       "      <th>25%</th>\n",
       "      <td>24.000000</td>\n",
       "      <td>4.720400e+04</td>\n",
       "      <td>1.000000</td>\n",
       "      <td>5000.000000</td>\n",
       "      <td>8.590000</td>\n",
       "      <td>0.070000</td>\n",
       "      <td>3.000000</td>\n",
       "      <td>601.000000</td>\n",
       "      <td>0.000000</td>\n",
       "    </tr>\n",
       "    <tr>\n",
       "      <th>50%</th>\n",
       "      <td>26.000000</td>\n",
       "      <td>6.704800e+04</td>\n",
       "      <td>4.000000</td>\n",
       "      <td>8000.000000</td>\n",
       "      <td>11.010000</td>\n",
       "      <td>0.120000</td>\n",
       "      <td>4.000000</td>\n",
       "      <td>640.000000</td>\n",
       "      <td>0.000000</td>\n",
       "    </tr>\n",
       "    <tr>\n",
       "      <th>75%</th>\n",
       "      <td>30.000000</td>\n",
       "      <td>9.578925e+04</td>\n",
       "      <td>8.000000</td>\n",
       "      <td>12237.250000</td>\n",
       "      <td>12.990000</td>\n",
       "      <td>0.190000</td>\n",
       "      <td>8.000000</td>\n",
       "      <td>670.000000</td>\n",
       "      <td>0.000000</td>\n",
       "    </tr>\n",
       "    <tr>\n",
       "      <th>max</th>\n",
       "      <td>144.000000</td>\n",
       "      <td>7.200766e+06</td>\n",
       "      <td>125.000000</td>\n",
       "      <td>35000.000000</td>\n",
       "      <td>20.000000</td>\n",
       "      <td>0.660000</td>\n",
       "      <td>30.000000</td>\n",
       "      <td>850.000000</td>\n",
       "      <td>1.000000</td>\n",
       "    </tr>\n",
       "  </tbody>\n",
       "</table>\n",
       "</div>"
      ],
      "text/plain": [
       "         person_age  person_income  person_emp_exp     loan_amnt  \\\n",
       "count  45000.000000   4.500000e+04    45000.000000  45000.000000   \n",
       "mean      27.764178   8.031905e+04        5.410333   9583.157556   \n",
       "std        6.045108   8.042250e+04        6.063532   6314.886691   \n",
       "min       20.000000   8.000000e+03        0.000000    500.000000   \n",
       "25%       24.000000   4.720400e+04        1.000000   5000.000000   \n",
       "50%       26.000000   6.704800e+04        4.000000   8000.000000   \n",
       "75%       30.000000   9.578925e+04        8.000000  12237.250000   \n",
       "max      144.000000   7.200766e+06      125.000000  35000.000000   \n",
       "\n",
       "       loan_int_rate  loan_percent_income  cb_person_cred_hist_length  \\\n",
       "count   45000.000000         45000.000000                45000.000000   \n",
       "mean       11.006606             0.139725                    5.867489   \n",
       "std         2.978808             0.087212                    3.879702   \n",
       "min         5.420000             0.000000                    2.000000   \n",
       "25%         8.590000             0.070000                    3.000000   \n",
       "50%        11.010000             0.120000                    4.000000   \n",
       "75%        12.990000             0.190000                    8.000000   \n",
       "max        20.000000             0.660000                   30.000000   \n",
       "\n",
       "       credit_score   loan_status  \n",
       "count  45000.000000  45000.000000  \n",
       "mean     632.608756      0.222222  \n",
       "std       50.435865      0.415744  \n",
       "min      390.000000      0.000000  \n",
       "25%      601.000000      0.000000  \n",
       "50%      640.000000      0.000000  \n",
       "75%      670.000000      0.000000  \n",
       "max      850.000000      1.000000  "
      ]
     },
     "execution_count": 14,
     "metadata": {},
     "output_type": "execute_result"
    }
   ],
   "source": [
    "df.describe()"
   ]
  },
  {
   "cell_type": "code",
   "execution_count": 15,
   "id": "90334911-ab65-47e4-9925-fe6c306831ef",
   "metadata": {},
   "outputs": [
    {
     "data": {
      "text/plain": [
       "person_age                        0\n",
       "person_gender                     0\n",
       "person_education                  0\n",
       "person_income                     0\n",
       "person_emp_exp                    0\n",
       "person_home_ownership             0\n",
       "loan_amnt                         0\n",
       "loan_intent                       0\n",
       "loan_int_rate                     0\n",
       "loan_percent_income               0\n",
       "cb_person_cred_hist_length        0\n",
       "credit_score                      0\n",
       "previous_loan_defaults_on_file    0\n",
       "loan_status                       0\n",
       "dtype: int64"
      ]
     },
     "execution_count": 15,
     "metadata": {},
     "output_type": "execute_result"
    }
   ],
   "source": [
    "df.isnull().sum()"
   ]
  },
  {
   "cell_type": "markdown",
   "id": "5eaead6e-9236-4db9-95f3-4130425d3669",
   "metadata": {
    "jp-MarkdownHeadingCollapsed": true
   },
   "source": [
    "# Encoding Categorical Columns"
   ]
  },
  {
   "cell_type": "code",
   "execution_count": 16,
   "id": "f3e6d86a-cea8-4168-bba0-435b1ccc5dcd",
   "metadata": {},
   "outputs": [],
   "source": [
    "binary_cols = ('person_gender','previous_loan_defaults_on_file')"
   ]
  },
  {
   "cell_type": "code",
   "execution_count": 17,
   "id": "6303f75c-3601-4dc5-bc5a-3be2338b09c6",
   "metadata": {},
   "outputs": [],
   "source": [
    "le = LabelEncoder()"
   ]
  },
  {
   "cell_type": "code",
   "execution_count": 18,
   "id": "9b1edc7b-cbab-4c10-aa90-aeceffda7341",
   "metadata": {},
   "outputs": [],
   "source": [
    "binary_cols =['person_gender', 'previous_loan_defaults_on_file']\n",
    "for col in binary_cols:\n",
    "    df[col] = le.fit_transform(df[col])"
   ]
  },
  {
   "cell_type": "code",
   "execution_count": 19,
   "id": "e7e92e56-ce65-4830-886b-1c79f6dacd76",
   "metadata": {},
   "outputs": [],
   "source": [
    "multi_cols = ['person_education','person_home_ownership','loan_intent']"
   ]
  },
  {
   "cell_type": "code",
   "execution_count": 20,
   "id": "f0eb0a79-7a72-417b-9d1a-4d558325f2a4",
   "metadata": {},
   "outputs": [],
   "source": [
    "df = pd.get_dummies(df, columns=multi_cols, drop_first=True)"
   ]
  },
  {
   "cell_type": "code",
   "execution_count": 21,
   "id": "472e501f-2e1a-4025-83f8-bbd239d06be9",
   "metadata": {},
   "outputs": [
    {
     "name": "stdout",
     "output_type": "stream",
     "text": [
      "   person_age  person_gender  person_income  person_emp_exp  loan_amnt  \\\n",
      "0        22.0              0        71948.0               0    35000.0   \n",
      "1        21.0              0        12282.0               0     1000.0   \n",
      "2        25.0              0        12438.0               3     5500.0   \n",
      "3        23.0              0        79753.0               0    35000.0   \n",
      "4        24.0              1        66135.0               1    35000.0   \n",
      "\n",
      "   loan_int_rate  loan_percent_income  cb_person_cred_hist_length  \\\n",
      "0          16.02                 0.49                         3.0   \n",
      "1          11.14                 0.08                         2.0   \n",
      "2          12.87                 0.44                         3.0   \n",
      "3          15.23                 0.44                         2.0   \n",
      "4          14.27                 0.53                         4.0   \n",
      "\n",
      "   credit_score  previous_loan_defaults_on_file  ...  \\\n",
      "0           561                               0  ...   \n",
      "1           504                               1  ...   \n",
      "2           635                               0  ...   \n",
      "3           675                               0  ...   \n",
      "4           586                               0  ...   \n",
      "\n",
      "   person_education_High School  person_education_Master  \\\n",
      "0                         False                     True   \n",
      "1                          True                    False   \n",
      "2                          True                    False   \n",
      "3                         False                    False   \n",
      "4                         False                     True   \n",
      "\n",
      "   person_home_ownership_OTHER  person_home_ownership_OWN  \\\n",
      "0                        False                      False   \n",
      "1                        False                       True   \n",
      "2                        False                      False   \n",
      "3                        False                      False   \n",
      "4                        False                      False   \n",
      "\n",
      "   person_home_ownership_RENT  loan_intent_EDUCATION  \\\n",
      "0                        True                  False   \n",
      "1                       False                   True   \n",
      "2                       False                  False   \n",
      "3                        True                  False   \n",
      "4                        True                  False   \n",
      "\n",
      "   loan_intent_HOMEIMPROVEMENT  loan_intent_MEDICAL  loan_intent_PERSONAL  \\\n",
      "0                        False                False                  True   \n",
      "1                        False                False                 False   \n",
      "2                        False                 True                 False   \n",
      "3                        False                 True                 False   \n",
      "4                        False                 True                 False   \n",
      "\n",
      "   loan_intent_VENTURE  \n",
      "0                False  \n",
      "1                False  \n",
      "2                False  \n",
      "3                False  \n",
      "4                False  \n",
      "\n",
      "[5 rows x 23 columns]\n"
     ]
    }
   ],
   "source": [
    "print(df.head())"
   ]
  },
  {
   "cell_type": "code",
   "execution_count": 22,
   "id": "8df8f173-ae26-4fa4-924c-e05bb0a98a44",
   "metadata": {},
   "outputs": [
    {
     "name": "stdout",
     "output_type": "stream",
     "text": [
      "Index(['person_age', 'person_gender', 'person_income', 'person_emp_exp',\n",
      "       'loan_amnt', 'loan_int_rate', 'loan_percent_income',\n",
      "       'cb_person_cred_hist_length', 'credit_score',\n",
      "       'previous_loan_defaults_on_file', 'loan_status',\n",
      "       'person_education_Bachelor', 'person_education_Doctorate',\n",
      "       'person_education_High School', 'person_education_Master',\n",
      "       'person_home_ownership_OTHER', 'person_home_ownership_OWN',\n",
      "       'person_home_ownership_RENT', 'loan_intent_EDUCATION',\n",
      "       'loan_intent_HOMEIMPROVEMENT', 'loan_intent_MEDICAL',\n",
      "       'loan_intent_PERSONAL', 'loan_intent_VENTURE'],\n",
      "      dtype='object')\n"
     ]
    }
   ],
   "source": [
    "print(df.columns)"
   ]
  },
  {
   "cell_type": "markdown",
   "id": "73230437-44a4-431b-9cf9-13c77544aba7",
   "metadata": {
    "jp-MarkdownHeadingCollapsed": true
   },
   "source": [
    "# Define features and Target"
   ]
  },
  {
   "cell_type": "code",
   "execution_count": 23,
   "id": "0ba7a5c2-a993-41a4-9d01-c51647caafb5",
   "metadata": {},
   "outputs": [],
   "source": [
    "target = 'loan_status'\n",
    "x = df.drop(columns=[target]) #Features\n",
    "y = df[target] #Target"
   ]
  },
  {
   "cell_type": "markdown",
   "id": "6a3b1a2c-522e-41f3-bc5a-7d9a203fdfba",
   "metadata": {
    "jp-MarkdownHeadingCollapsed": true
   },
   "source": [
    "# Training and Test Sets"
   ]
  },
  {
   "cell_type": "code",
   "execution_count": 24,
   "id": "76c32368-1245-48f8-ac44-a2f1b11dad67",
   "metadata": {},
   "outputs": [],
   "source": [
    "x_train, x_test, y_train, y_test = train_test_split(x, y, test_size=0.3, random_state=42, stratify=y)"
   ]
  },
  {
   "cell_type": "markdown",
   "id": "b264feb9-6995-4237-ba0a-28e71fe8e998",
   "metadata": {
    "jp-MarkdownHeadingCollapsed": true
   },
   "source": [
    "# Handle imbalanced classes"
   ]
  },
  {
   "cell_type": "code",
   "execution_count": 25,
   "id": "319ad819-9386-4553-90ac-fa0b94c28311",
   "metadata": {},
   "outputs": [],
   "source": [
    "#Apply SMOTE to balance classes\n",
    "sm = SMOTE(random_state=42)\n",
    "x_train_res, y_train_res = sm.fit_resample(x_train,y_train)"
   ]
  },
  {
   "cell_type": "markdown",
   "id": "dd4f1c0b-c8db-4dbb-8a29-8242fae43873",
   "metadata": {
    "jp-MarkdownHeadingCollapsed": true
   },
   "source": [
    "# Scale numeric features"
   ]
  },
  {
   "cell_type": "code",
   "execution_count": 27,
   "id": "a87bed6e-c649-42a1-a767-3e4633910e82",
   "metadata": {},
   "outputs": [],
   "source": [
    "#Standardscaler scale features mean=0 and std=1\n",
    "scaler = StandardScaler()\n",
    "x_train_res = scaler.fit_transform(x_train_res)\n",
    "x_test = scaler.transform(x_test)"
   ]
  },
  {
   "cell_type": "markdown",
   "id": "e220e283-8e9b-4e29-ad97-80395207dbb2",
   "metadata": {
    "jp-MarkdownHeadingCollapsed": true
   },
   "source": [
    "# Train Models"
   ]
  },
  {
   "cell_type": "code",
   "execution_count": 29,
   "id": "d1a60958-c3d9-47f7-99a5-5289e96c4c4e",
   "metadata": {},
   "outputs": [],
   "source": [
    "# Logistic Regression\n",
    "log_reg = LogisticRegression(max_iter=1000)\n",
    "log_reg.fit(x_train_res, y_train_res)\n",
    "y_pred_lr = log_reg.predict(x_test)\n",
    "\n",
    "# Random Forest\n",
    "rf = RandomForestClassifier(n_estimators=200, random_state=42)\n",
    "rf.fit(x_train_res, y_train_res)\n",
    "y_pred_rf = rf.predict(x_test)"
   ]
  },
  {
   "cell_type": "markdown",
   "id": "84679a9c-3e37-45d7-92f5-a20a17d1c30d",
   "metadata": {},
   "source": [
    "# Evaluate Models"
   ]
  },
  {
   "cell_type": "code",
   "execution_count": 30,
   "id": "b329ebd3-8d91-46fe-a6e0-ea7e05ce2d70",
   "metadata": {},
   "outputs": [
    {
     "name": "stdout",
     "output_type": "stream",
     "text": [
      "Logistic Regression Report:\n",
      "              precision    recall  f1-score   support\n",
      "\n",
      "           0       0.95      0.88      0.91     10500\n",
      "           1       0.67      0.83      0.74      3000\n",
      "\n",
      "    accuracy                           0.87     13500\n",
      "   macro avg       0.81      0.86      0.83     13500\n",
      "weighted avg       0.89      0.87      0.88     13500\n",
      "\n",
      "\n",
      "Random Forest Report:\n",
      "              precision    recall  f1-score   support\n",
      "\n",
      "           0       0.95      0.94      0.94     10500\n",
      "           1       0.80      0.83      0.81      3000\n",
      "\n",
      "    accuracy                           0.91     13500\n",
      "   macro avg       0.87      0.88      0.88     13500\n",
      "weighted avg       0.92      0.91      0.91     13500\n",
      "\n",
      "Random Forest ROC-AUC: 0.9678749999999999\n"
     ]
    },
    {
     "data": {
      "image/png": "[encoded data removed]",
      "text/plain": [
       "<Figure size 640x480 with 1 Axes>"
      ]
     },
     "metadata": {},
     "output_type": "display_data"
    }
   ],
   "source": [
    "# Classification reports\n",
    "print(\"Logistic Regression Report:\")\n",
    "print(classification_report(y_test, y_pred_lr))\n",
    "\n",
    "print(\"\\nRandom Forest Report:\")\n",
    "print(classification_report(y_test, y_pred_rf))\n",
    "\n",
    "# ROC-AUC for Random Forest\n",
    "y_proba_rf = rf.predict_proba(x_test)[:, 1]\n",
    "auc = roc_auc_score(y_test, y_proba_rf)\n",
    "print(\"Random Forest ROC-AUC:\", auc)\n",
    "\n",
    "# ROC Curve\n",
    "fpr, tpr, thresholds = roc_curve(y_test, y_proba_rf)\n",
    "plt.plot(fpr, tpr, label=f\"AUC = {auc:.2f}\")\n",
    "plt.plot([0,1],[0,1],'k--')\n",
    "plt.xlabel(\"False Positive Rate\")\n",
    "plt.ylabel(\"True Positive Rate\")\n",
    "plt.legend()\n",
    "plt.title(\"ROC Curve (Random Forest)\")\n",
    "plt.show()"
   ]
  },
  {
   "cell_type": "markdown",
   "id": "1026ce8e-2e72-4ab0-b97c-a3c5ebdc8e24",
   "metadata": {},
   "source": [
    "# Feature Importance"
   ]
  },
  {
   "cell_type": "code",
   "execution_count": 33,
   "id": "46800532-3da9-48f2-af30-265e9d7855dc",
   "metadata": {},
   "outputs": [
    {
     "data": {
      "image/png": "[encoded data removed]",
      "text/plain": [
       "<Figure size 800x600 with 1 Axes>"
      ]
     },
     "metadata": {},
     "output_type": "display_data"
    }
   ],
   "source": [
    "# Random Forest feature importance\n",
    "importances = pd.Series(rf.feature_importances_, index=x.columns)\n",
    "top_features = importances.nlargest(15)\n",
    "\n",
    "plt.figure(figsize=(8,6))\n",
    "sns.barplot(x=top_features, y=top_features.index)\n",
    "plt.title(\"Top 15 Important Features\")\n",
    "plt.show()"
   ]
  },
  {
   "cell_type": "code",
   "execution_count": 35,
   "id": "0301e07c-1e8d-4649-8b31-b2e1a67ef908",
   "metadata": {},
   "outputs": [],
   "source": [
    "import pickle\n",
    "with open('loan_rf_model.pkl','wb') as f:\n",
    "    pickle.dump(rf, f)"
   ]
  },
  {
   "cell_type": "code",
   "execution_count": null,
   "id": "cb8eac44-3d36-4802-8e63-06bc513dae80",
   "metadata": {},
   "outputs": [],
   "source": []
  }
 ],
 "metadata": {
  "kernelspec": {
   "display_name": "Python 3 (ipykernel)",
   "language": "python",
   "name": "python3"
  },
  "language_info": {
   "codemirror_mode": {
    "name": "ipython",
    "version": 3
   },
   "file_extension": ".py",
   "mimetype": "text/x-python",
   "name": "python",
   "nbconvert_exporter": "python",
   "pygments_lexer": "ipython3",
   "version": "3.12.7"
  }
 },
 "nbformat": 4,
 "nbformat_minor": 5
}
